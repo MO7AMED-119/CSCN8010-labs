{
 "cells": [
  {
   "cell_type": "markdown",
   "metadata": {},
   "source": [
    "# Assignmnet 1"
   ]
  },
  {
   "cell_type": "markdown",
   "metadata": {},
   "source": [
    "#### This is the source of my dataset [Kaggle](https://www.kaggle.com/datasets/camnugent/california-housing-prices).\n"
   ]
  },
  {
   "cell_type": "markdown",
   "metadata": {},
   "source": [
    "####                         Names of each column\n",
    "\n",
    "###### 1. longitude: A measure of how far west a house is; a higher value is farther west\n",
    "###### 2. latitude: A measure of how far north a house is; a higher value is farther north\n",
    "###### 3. housingMedianAge: Median age of a house within a block; a lower number is a newer building\n",
    "###### 4. totalRooms: Total number of rooms within a block\n",
    "###### 5. totalBedrooms: Total number of bedrooms within a block\n",
    "###### 6. population: Total number of people residing within a block\n",
    "###### 7. households: Total number of households, a group of people residing within a home unit, for a block\n",
    "###### 8. medianIncome: Median income for households within a block of houses (measured in tens of thousands of US Dollars)\n",
    "###### 9. medianHouseValue: Median house value for households within a block (measured in US Dollars)\n",
    "###### 10. oceanProximity: Location of the house w.r.t ocean/sea"
   ]
  }
 ],
 "metadata": {
  "kernelspec": {
   "display_name": "base",
   "language": "python",
   "name": "python3"
  },
  "language_info": {
   "codemirror_mode": {
    "name": "ipython",
    "version": 3
   },
   "file_extension": ".py",
   "mimetype": "text/x-python",
   "name": "python",
   "nbconvert_exporter": "python",
   "pygments_lexer": "ipython3",
   "version": "3.11.4"
  }
 },
 "nbformat": 4,
 "nbformat_minor": 2
}
